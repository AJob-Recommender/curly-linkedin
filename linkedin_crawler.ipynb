{
 "cells": [
  {
   "cell_type": "markdown",
   "id": "c2182386",
   "metadata": {},
   "source": [
    "# LinkedIn Crawler"
   ]
  },
  {
   "cell_type": "markdown",
   "id": "944736b0",
   "metadata": {},
   "source": [
    "## Importing Libraries"
   ]
  },
  {
   "cell_type": "code",
   "execution_count": 24,
   "id": "3a596fbb",
   "metadata": {},
   "outputs": [],
   "source": [
    "import pandas as pd\n",
    "from selenium import webdriver\n",
    "from selenium.webdriver.chrome.service import Service\n",
    "from selenium.webdriver.chrome.options import Options\n",
    "import time\n",
    "from selenium.common.exceptions import WebDriverException\n",
    "import numpy as np\n",
    "from selenium.webdriver.common.by import By\n",
    "import csv\n",
    "import pandas as pd\n",
    "import random"
   ]
  },
  {
   "cell_type": "markdown",
   "id": "59d4ac6c",
   "metadata": {},
   "source": [
    "## Getting Username"
   ]
  },
  {
   "cell_type": "code",
   "execution_count": 25,
   "id": "e8215dfd",
   "metadata": {},
   "outputs": [],
   "source": [
    "def get_username():\n",
    "    userContainer = driver.find_elements_by_css_selector(\"#main h1:first-of-type\")\n",
    "    if len(userContainer) > 0:\n",
    "        return userContainer[0].get_attribute(\"innerHTML\")"
   ]
  },
  {
   "cell_type": "markdown",
   "id": "a4988dd1",
   "metadata": {},
   "source": [
    "## Getting Experiences"
   ]
  },
  {
   "cell_type": "code",
   "execution_count": 61,
   "id": "257bf3ab",
   "metadata": {},
   "outputs": [],
   "source": [
    "def get_experiences():\n",
    "    show_more_experience = driver.find_elements_by_css_selector(\"#experience + div + div .pvs-list__footer-wrapper a\")\n",
    "    experiences = []\n",
    "    if len(show_more_experience) > 0:\n",
    "        show_more_experience[0].click()\n",
    "        time.sleep(1)\n",
    "    \n",
    "        experiencesContainer = driver.find_elements_by_css_selector(\".pvs-list\")\n",
    "        if len(experiencesContainer) > 0:\n",
    "            experiencesObjects = experiencesContainer[0].find_elements_by_css_selector('li')\n",
    "            for i in range(len(experiencesObjects)):\n",
    "                nameObject = experiencesObjects[i].find_elements_by_css_selector(\".pvs-entity > div:last-of-type > div:first-of-type > div:first-of-type div:first-of-type > span:first-of-type > span:first-of-type\")\n",
    "                placeObject = experiencesObjects[i].find_elements_by_css_selector(\".pvs-entity > div:last-of-type > div:first-of-type > div:first-of-type > span:first-of-type > span:first-of-type\")\n",
    "                name = \"\"\n",
    "                place = \"\"\n",
    "                if len(nameObject) > 0:\n",
    "                    name = nameObject[0].get_attribute(\"innerHTML\")\n",
    "                if len(placeObject) > 0:\n",
    "                    place = placeObject[0].get_attribute(\"innerHTML\")\n",
    "                experiences.append({\"name\": name, \"place\": place})\n",
    "        driver.back()\n",
    "        time.sleep(1)\n",
    "    else:\n",
    "        experiencesContainer = driver.find_elements_by_css_selector(\"#experience ~ .pvs-list__outer-container > .pvs-list\")\n",
    "        if len(experiencesContainer) > 0:\n",
    "            experiencesObjects = experiencesContainer[0].find_elements_by_css_selector('li')\n",
    "            for i in range(len(experiencesObjects)):\n",
    "                nameObject = experiencesObjects[i].find_elements_by_css_selector(\".pvs-entity > div:last-of-type > div:first-of-type > div:first-of-type div:first-of-type > span:first-of-type > span:first-of-type\")\n",
    "                placeObject = experiencesObjects[i].find_elements_by_css_selector(\".pvs-entity > div:last-of-type > div:first-of-type > div:first-of-type > span:first-of-type > span:first-of-type\")\n",
    "                name = \"\"\n",
    "                place = \"\"\n",
    "                if len(nameObject) > 0:\n",
    "                    name = nameObject[0].get_attribute(\"innerHTML\")\n",
    "                if len(placeObject) > 0:\n",
    "                    place = placeObject[0].get_attribute(\"innerHTML\")\n",
    "                experiences.append({\"name\": name, \"place\": place})\n",
    "    return experiences"
   ]
  },
  {
   "cell_type": "markdown",
   "id": "e98fa3b8",
   "metadata": {},
   "source": [
    "## Getting Educations"
   ]
  },
  {
   "cell_type": "code",
   "execution_count": 62,
   "id": "d3b2c5f8",
   "metadata": {},
   "outputs": [],
   "source": [
    "def get_educations():\n",
    "    educations = []\n",
    "    educationsContainer = driver.find_elements_by_css_selector(\"#education ~ .pvs-list__outer-container > .pvs-list\")\n",
    "    if len(educationsContainer) > 0:\n",
    "        educationsObjects = educationsContainer[0].find_elements_by_css_selector('li')\n",
    "        for i in range(len(educationsObjects)):\n",
    "            universityObject = educationsObjects[i].find_elements_by_css_selector(\".pvs-entity > div:last-of-type > div:first-of-type > a div:first-of-type > span:first-of-type > span:first-of-type\")\n",
    "            majorObject = educationsObjects[i].find_elements_by_css_selector(\".pvs-entity > div:last-of-type > div:first-of-type > a > span:first-of-type > span:first-of-type\")\n",
    "            university = \"\"\n",
    "            major = \"\"\n",
    "            if len(universityObject) > 0:\n",
    "                university = universityObject[0].get_attribute(\"innerHTML\")\n",
    "            if len(majorObject) > 0:\n",
    "                major = majorObject[0].get_attribute(\"innerHTML\")\n",
    "            educations.append({\"university\": university, \"major\": major})\n",
    "    return educations"
   ]
  },
  {
   "cell_type": "markdown",
   "id": "729ca0b0",
   "metadata": {},
   "source": [
    "## Getting Skills"
   ]
  },
  {
   "cell_type": "code",
   "execution_count": 63,
   "id": "659ea049",
   "metadata": {},
   "outputs": [],
   "source": [
    "def get_skills():\n",
    "    show_more_skills = driver.find_elements_by_css_selector(\"#skills + div + div .pvs-list__footer-wrapper a\")\n",
    "    skills = []\n",
    "    if len(show_more_skills) > 0:\n",
    "        show_more_skills[0].click()\n",
    "        time.sleep(random.randint(1, 3))\n",
    "    \n",
    "        skillsContainer = driver.find_elements_by_css_selector(\".pvs-list\")\n",
    "        if len(skillsContainer) > 0:\n",
    "            skillsObjects = skillsContainer[0].find_elements_by_css_selector('li')\n",
    "            for i in range(len(skillsObjects)):\n",
    "                nameObject = skillsObjects[i].find_elements_by_css_selector(\".pvs-entity > div:last-of-type > div:first-of-type span:first-of-type > span:first-of-type\")\n",
    "                name = \"\"\n",
    "                if len(nameObject) > 0:\n",
    "                    name = nameObject[0].get_attribute(\"innerHTML\")\n",
    "                if name != \"\":\n",
    "                    skills.append(name)\n",
    "        driver.back()\n",
    "        time.sleep(1)\n",
    "    else:\n",
    "        skillsContainer = driver.find_elements_by_css_selector(\"#skills ~ .pvs-list__outer-container > .pvs-list\")\n",
    "        if len(skillsContainer) > 0:\n",
    "            skillsObjects = skillsContainer[0].find_elements_by_css_selector('li')\n",
    "            for i in range(len(skillsObjects)):\n",
    "                nameObject = skillsObjects[i].find_elements_by_css_selector(\".pvs-entity > div:last-of-type > div:first-of-type span:first-of-type > span:first-of-type\")\n",
    "                name = \"\"\n",
    "                if len(nameObject) > 0:\n",
    "                    name = nameObject[0].get_attribute(\"innerHTML\")\n",
    "                if name != \"\":\n",
    "                    skills.append(name)\n",
    "    return skills"
   ]
  },
  {
   "cell_type": "markdown",
   "id": "55acf52f",
   "metadata": {},
   "source": [
    "## Get Info and Write to File"
   ]
  },
  {
   "cell_type": "code",
   "execution_count": 64,
   "id": "dd03b88b",
   "metadata": {},
   "outputs": [],
   "source": [
    "def write_to_file(link):\n",
    "    username = get_username()\n",
    "    experiences = get_experiences()\n",
    "    educations = get_educations()\n",
    "    skills = get_skills()\n",
    "    \n",
    "    new_row = {\n",
    "        \"Profile URL\": link,\n",
    "        \"Full Name\": username,\n",
    "        \"Experiences\": [experiences],\n",
    "        \"Educations\": [educations],\n",
    "        \"Skills\": [skills],\n",
    "    }\n",
    "    result.append(new_row)"
   ]
  },
  {
   "cell_type": "markdown",
   "id": "b89159fc",
   "metadata": {},
   "source": [
    "## Creating Chrome Instance"
   ]
  },
  {
   "cell_type": "code",
   "execution_count": 52,
   "id": "3bb44bee",
   "metadata": {},
   "outputs": [],
   "source": [
    "chrome_options = Options()\n",
    "# chrome_options.add_argument(\"--window-size=1920x1080\")\n",
    "s = Service('D:/ChromeDriver/chromedriver.exe')\n",
    "driver = webdriver.Chrome(options=chrome_options, service=s)"
   ]
  },
  {
   "cell_type": "markdown",
   "id": "9a8984e9",
   "metadata": {},
   "source": [
    "## Reading Profile Links from File"
   ]
  },
  {
   "cell_type": "code",
   "execution_count": 65,
   "id": "e4225ded",
   "metadata": {},
   "outputs": [],
   "source": [
    "input_file = pd.read_csv('mobilelinks.csv')\n",
    "input_file.dropna(inplace=True)\n",
    "links = input_file[\"mobile\"]\n",
    "links = links.to_numpy()"
   ]
  },
  {
   "cell_type": "markdown",
   "id": "0a0323e5",
   "metadata": {},
   "source": [
    "## Creating Final Dataframe"
   ]
  },
  {
   "cell_type": "code",
   "execution_count": 66,
   "id": "3f59ce03",
   "metadata": {},
   "outputs": [],
   "source": [
    "result = []"
   ]
  },
  {
   "cell_type": "markdown",
   "id": "5efc012f",
   "metadata": {},
   "source": [
    "## Looping through Links"
   ]
  },
  {
   "cell_type": "code",
   "execution_count": 67,
   "id": "5925bef1",
   "metadata": {},
   "outputs": [
    {
     "name": "stderr",
     "output_type": "stream",
     "text": [
      "C:\\Users\\ahall\\AppData\\Local\\Temp/ipykernel_15316/1753389361.py:2: DeprecationWarning: find_elements_by_* commands are deprecated. Please use find_elements() instead\n",
      "  userContainer = driver.find_elements_by_css_selector(\"#main h1:first-of-type\")\n",
      "C:\\Users\\ahall\\AppData\\Local\\Temp/ipykernel_15316/3317762470.py:24: DeprecationWarning: find_elements_by_* commands are deprecated. Please use find_elements() instead\n",
      "  experiencesContainer = driver.find_elements_by_css_selector(\"#experience ~ .pvs-list__outer-container > .pvs-list\")\n",
      "C:\\Users\\ahall\\AppData\\Local\\Temp/ipykernel_15316/2519972380.py:3: DeprecationWarning: find_elements_by_* commands are deprecated. Please use find_elements() instead\n",
      "  educationsContainer = driver.find_elements_by_css_selector(\"#education ~ .pvs-list__outer-container > .pvs-list\")\n",
      "C:\\Users\\ahall\\AppData\\Local\\Temp/ipykernel_15316/3163111928.py:8: DeprecationWarning: find_elements_by_* commands are deprecated. Please use find_elements() instead\n",
      "  skillsContainer = driver.find_elements_by_css_selector(\".pvs-list\")\n"
     ]
    },
    {
     "name": "stdout",
     "output_type": "stream",
     "text": [
      "https://www.linkedin.com/in/bharat-bhushan-05a25898/, https://www.linkedin.com/in/chrisamanse/, https://www.linkedin.com/in/sunbinkim/, https://www.linkedin.com/in/abhinavmathur/, https://www.linkedin.com/in/patoliyarahul/, https://www.linkedin.com/in/rakesh-nadakudhiti/, https://www.linkedin.com/in/rakesh-nadakudhiti/, https://www.linkedin.com/in/jeffcrans/, "
     ]
    },
    {
     "name": "stderr",
     "output_type": "stream",
     "text": [
      "C:\\Users\\ahall\\AppData\\Local\\Temp/ipykernel_15316/3163111928.py:21: DeprecationWarning: find_elements_by_* commands are deprecated. Please use find_elements() instead\n",
      "  skillsContainer = driver.find_elements_by_css_selector(\"#skills ~ .pvs-list__outer-container > .pvs-list\")\n"
     ]
    },
    {
     "name": "stdout",
     "output_type": "stream",
     "text": [
      "https://www.linkedin.com/in/reza-wanted-6b40851a6/, https://www.linkedin.com/in/jogikushal/, https://www.linkedin.com/in/petreacavicentiu/, https://www.linkedin.com/in/dylanvelez/, https://www.linkedin.com/in/hiteshkumarhkp/, https://www.linkedin.com/in/randspence/, https://www.linkedin.com/in/darius-m-60388b157/, https://www.linkedin.com/in/chakshuarora/, https://www.linkedin.com/in/yunfu-zhang-5096344a/, https://www.linkedin.com/in/aviral190694/, https://www.linkedin.com/in/huiyuanr/, https://www.linkedin.com/in/sagarbhosale/, https://www.linkedin.com/in/ali-kadhum-018b2a124/, https://www.linkedin.com/in/sachinsrivastava24/, https://www.linkedin.com/in/mohammad-m-0244751b6/, https://www.linkedin.com/in/florina-muntenescu-314b8921/, https://www.linkedin.com/in/re-em-halamish-673086150/, https://www.linkedin.com/in/calvin-noronha/, https://www.linkedin.com/in/sai-kiran-750442146/, https://www.linkedin.com/in/lylafujiwara/, https://www.linkedin.com/in/kyle-corio-2b39a078/, "
     ]
    },
    {
     "ename": "KeyboardInterrupt",
     "evalue": "",
     "output_type": "error",
     "traceback": [
      "\u001b[1;31m---------------------------------------------------------------------------\u001b[0m",
      "\u001b[1;31mKeyboardInterrupt\u001b[0m                         Traceback (most recent call last)",
      "\u001b[1;32m~\\AppData\\Local\\Temp/ipykernel_15316/762619095.py\u001b[0m in \u001b[0;36m<module>\u001b[1;34m\u001b[0m\n\u001b[0;32m      4\u001b[0m     \u001b[0mtime\u001b[0m\u001b[1;33m.\u001b[0m\u001b[0msleep\u001b[0m\u001b[1;33m(\u001b[0m\u001b[1;36m1\u001b[0m\u001b[1;33m)\u001b[0m\u001b[1;33m\u001b[0m\u001b[1;33m\u001b[0m\u001b[0m\n\u001b[0;32m      5\u001b[0m     \u001b[0mwrite_to_file\u001b[0m\u001b[1;33m(\u001b[0m\u001b[0mlinks\u001b[0m\u001b[1;33m[\u001b[0m\u001b[0mi\u001b[0m\u001b[1;33m]\u001b[0m\u001b[1;33m)\u001b[0m\u001b[1;33m\u001b[0m\u001b[1;33m\u001b[0m\u001b[0m\n\u001b[1;32m----> 6\u001b[1;33m     \u001b[0mtime\u001b[0m\u001b[1;33m.\u001b[0m\u001b[0msleep\u001b[0m\u001b[1;33m(\u001b[0m\u001b[0mrandom\u001b[0m\u001b[1;33m.\u001b[0m\u001b[0mrandint\u001b[0m\u001b[1;33m(\u001b[0m\u001b[1;36m2\u001b[0m\u001b[1;33m,\u001b[0m \u001b[1;36m6\u001b[0m\u001b[1;33m)\u001b[0m\u001b[1;33m)\u001b[0m\u001b[1;33m\u001b[0m\u001b[1;33m\u001b[0m\u001b[0m\n\u001b[0m\u001b[0;32m      7\u001b[0m     \u001b[0mlast_visited_link\u001b[0m \u001b[1;33m=\u001b[0m \u001b[0mi\u001b[0m\u001b[1;33m\u001b[0m\u001b[1;33m\u001b[0m\u001b[0m\n\u001b[0;32m      8\u001b[0m     \u001b[0mprint\u001b[0m\u001b[1;33m(\u001b[0m\u001b[0mlinks\u001b[0m\u001b[1;33m[\u001b[0m\u001b[0mi\u001b[0m\u001b[1;33m]\u001b[0m\u001b[1;33m,\u001b[0m \u001b[0mend\u001b[0m\u001b[1;33m=\u001b[0m\u001b[1;34m\", \"\u001b[0m\u001b[1;33m)\u001b[0m\u001b[1;33m\u001b[0m\u001b[1;33m\u001b[0m\u001b[0m\n",
      "\u001b[1;31mKeyboardInterrupt\u001b[0m: "
     ]
    }
   ],
   "source": [
    "last_visited_link = -1\n",
    "for i in range(last_visited_link + 1, len(links)):\n",
    "    driver.get(links[i])\n",
    "    time.sleep(1)\n",
    "    write_to_file(links[i])\n",
    "    time.sleep(random.randint(2, 6))\n",
    "    last_visited_link = i\n",
    "    print(links[i], end=\", \")"
   ]
  },
  {
   "cell_type": "markdown",
   "id": "0e7c78a2",
   "metadata": {},
   "source": [
    "## Storing Result in CSV"
   ]
  },
  {
   "cell_type": "code",
   "execution_count": 68,
   "id": "a4519104",
   "metadata": {},
   "outputs": [],
   "source": [
    "df = pd.DataFrame(result)\n",
    "df.to_csv('res2.csv', mode=\"a\")"
   ]
  },
  {
   "cell_type": "markdown",
   "id": "39991993",
   "metadata": {},
   "source": [
    "## Temp Profiles for Crawling"
   ]
  },
  {
   "cell_type": "markdown",
   "id": "8122ed7d",
   "metadata": {},
   "source": [
    "email: qho94897@uooos.com\n",
    "password: 1qaz2wsx3edc\n",
    "\n",
    "email : vnpagraiqqcnpeynvz@nvhrw.com\n",
    "password: same\n",
    "\n",
    "email: utr81526@uooos.com\n",
    "pass: 3edc2wsx1qaz\n",
    "\n",
    "email: tqm71396@uooos.com\n",
    "pass: 1qaz2wsx3edc"
   ]
  },
  {
   "cell_type": "code",
   "execution_count": null,
   "id": "6a8a8ec1",
   "metadata": {},
   "outputs": [],
   "source": []
  }
 ],
 "metadata": {
  "kernelspec": {
   "display_name": "Python 3 (ipykernel)",
   "language": "python",
   "name": "python3"
  },
  "language_info": {
   "codemirror_mode": {
    "name": "ipython",
    "version": 3
   },
   "file_extension": ".py",
   "mimetype": "text/x-python",
   "name": "python",
   "nbconvert_exporter": "python",
   "pygments_lexer": "ipython3",
   "version": "3.9.7"
  }
 },
 "nbformat": 4,
 "nbformat_minor": 5
}
