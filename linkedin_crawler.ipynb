{
 "cells": [
  {
   "cell_type": "markdown",
   "id": "c2182386",
   "metadata": {
    "pycharm": {
     "name": "#%% md\n"
    }
   },
   "source": [
    "# LinkedIn Crawler"
   ]
  },
  {
   "cell_type": "markdown",
   "id": "944736b0",
   "metadata": {
    "pycharm": {
     "name": "#%% md\n"
    }
   },
   "source": [
    "## Importing Libraries"
   ]
  },
  {
   "cell_type": "code",
   "execution_count": 1,
   "id": "3a596fbb",
   "metadata": {
    "pycharm": {
     "name": "#%%\n"
    }
   },
   "outputs": [],
   "source": [
    "import pandas as pd\n",
    "from selenium import webdriver\n",
    "from selenium.webdriver.chrome.service import Service\n",
    "from selenium.webdriver.chrome.options import Options\n",
    "import time\n",
    "from selenium.common.exceptions import WebDriverException\n",
    "import numpy as np\n",
    "from selenium.webdriver.common.by import By\n",
    "import csv\n",
    "import pandas as pd\n",
    "import random"
   ]
  },
  {
   "cell_type": "markdown",
   "id": "59d4ac6c",
   "metadata": {
    "pycharm": {
     "name": "#%% md\n"
    }
   },
   "source": [
    "## Getting Username"
   ]
  },
  {
   "cell_type": "code",
   "execution_count": 2,
   "id": "e8215dfd",
   "metadata": {
    "pycharm": {
     "name": "#%%\n"
    }
   },
   "outputs": [],
   "source": [
    "def get_username():\n",
    "    userContainer = driver.find_elements_by_css_selector(\"#main h1:first-of-type\")\n",
    "    if len(userContainer) > 0:\n",
    "        return userContainer[0].get_attribute(\"innerHTML\")"
   ]
  },
  {
   "cell_type": "markdown",
   "id": "a4988dd1",
   "metadata": {
    "pycharm": {
     "name": "#%% md\n"
    }
   },
   "source": [
    "## Getting Experiences"
   ]
  },
  {
   "cell_type": "code",
   "execution_count": 3,
   "id": "257bf3ab",
   "metadata": {
    "pycharm": {
     "name": "#%%\n"
    }
   },
   "outputs": [],
   "source": [
    "def get_experiences():\n",
    "    show_more_experience = driver.find_elements_by_css_selector(\"#experience + div + div .pvs-list__footer-wrapper a\")\n",
    "    experiences = []\n",
    "    if len(show_more_experience) > 0:\n",
    "        show_more_experience[0].click()\n",
    "        time.sleep(1)\n",
    "    \n",
    "        experiencesContainer = driver.find_elements_by_css_selector(\".pvs-list\")\n",
    "        if len(experiencesContainer) > 0:\n",
    "            experiencesObjects = experiencesContainer[0].find_elements_by_css_selector('li')\n",
    "            for i in range(len(experiencesObjects)):\n",
    "                nameObject = experiencesObjects[i].find_elements_by_css_selector(\".pvs-entity > div:last-of-type > div:first-of-type > div:first-of-type div:first-of-type > span:first-of-type > span:first-of-type\")\n",
    "                placeObject = experiencesObjects[i].find_elements_by_css_selector(\".pvs-entity > div:last-of-type > div:first-of-type > div:first-of-type > span:first-of-type > span:first-of-type\")\n",
    "                name = \"\"\n",
    "                place = \"\"\n",
    "                if len(nameObject) > 0:\n",
    "                    name = nameObject[0].get_attribute(\"innerHTML\")\n",
    "                if len(placeObject) > 0:\n",
    "                    place = placeObject[0].get_attribute(\"innerHTML\")\n",
    "                experiences.append({\"name\": name, \"place\": place})\n",
    "        driver.back()\n",
    "        time.sleep(1)\n",
    "    else:\n",
    "        experiencesContainer = driver.find_elements_by_css_selector(\"#experience ~ .pvs-list__outer-container > .pvs-list\")\n",
    "        if len(experiencesContainer) > 0:\n",
    "            experiencesObjects = experiencesContainer[0].find_elements_by_css_selector('li')\n",
    "            for i in range(len(experiencesObjects)):\n",
    "                nameObject = experiencesObjects[i].find_elements_by_css_selector(\".pvs-entity > div:last-of-type > div:first-of-type > div:first-of-type div:first-of-type > span:first-of-type > span:first-of-type\")\n",
    "                placeObject = experiencesObjects[i].find_elements_by_css_selector(\".pvs-entity > div:last-of-type > div:first-of-type > div:first-of-type > span:first-of-type > span:first-of-type\")\n",
    "                name = \"\"\n",
    "                place = \"\"\n",
    "                if len(nameObject) > 0:\n",
    "                    name = nameObject[0].get_attribute(\"innerHTML\")\n",
    "                if len(placeObject) > 0:\n",
    "                    place = placeObject[0].get_attribute(\"innerHTML\")\n",
    "                experiences.append({\"name\": name, \"place\": place})\n",
    "    return experiences"
   ]
  },
  {
   "cell_type": "markdown",
   "id": "e98fa3b8",
   "metadata": {
    "pycharm": {
     "name": "#%% md\n"
    }
   },
   "source": [
    "## Getting Educations"
   ]
  },
  {
   "cell_type": "code",
   "execution_count": 4,
   "id": "d3b2c5f8",
   "metadata": {
    "pycharm": {
     "name": "#%%\n"
    }
   },
   "outputs": [],
   "source": [
    "def get_educations():\n",
    "    educations = []\n",
    "    educationsContainer = driver.find_elements_by_css_selector(\"#education ~ .pvs-list__outer-container > .pvs-list\")\n",
    "    if len(educationsContainer) > 0:\n",
    "        educationsObjects = educationsContainer[0].find_elements_by_css_selector('li')\n",
    "        for i in range(len(educationsObjects)):\n",
    "            universityObject = educationsObjects[i].find_elements_by_css_selector(\".pvs-entity > div:last-of-type > div:first-of-type > a div:first-of-type > span:first-of-type > span:first-of-type\")\n",
    "            majorObject = educationsObjects[i].find_elements_by_css_selector(\".pvs-entity > div:last-of-type > div:first-of-type > a > span:first-of-type > span:first-of-type\")\n",
    "            university = \"\"\n",
    "            major = \"\"\n",
    "            if len(universityObject) > 0:\n",
    "                university = universityObject[0].get_attribute(\"innerHTML\")\n",
    "            if len(majorObject) > 0:\n",
    "                major = majorObject[0].get_attribute(\"innerHTML\")\n",
    "            educations.append({\"university\": university, \"major\": major})\n",
    "    return educations"
   ]
  },
  {
   "cell_type": "markdown",
   "id": "729ca0b0",
   "metadata": {
    "pycharm": {
     "name": "#%% md\n"
    }
   },
   "source": [
    "## Getting Skills"
   ]
  },
  {
   "cell_type": "code",
   "execution_count": 5,
   "id": "659ea049",
   "metadata": {
    "pycharm": {
     "name": "#%%\n"
    }
   },
   "outputs": [],
   "source": [
    "def get_skills():\n",
    "    show_more_skills = driver.find_elements_by_css_selector(\"#skills + div + div .pvs-list__footer-wrapper a\")\n",
    "    skills = []\n",
    "    if len(show_more_skills) > 0:\n",
    "        show_more_skills[0].click()\n",
    "        time.sleep(random.randint(1, 3))\n",
    "    \n",
    "        skillsContainer = driver.find_elements_by_css_selector(\".pvs-list\")\n",
    "        if len(skillsContainer) > 0:\n",
    "            skillsObjects = skillsContainer[0].find_elements_by_css_selector('li')\n",
    "            for i in range(len(skillsObjects)):\n",
    "                nameObject = skillsObjects[i].find_elements_by_css_selector(\".pvs-entity > div:last-of-type > div:first-of-type span:first-of-type > span:first-of-type\")\n",
    "                name = \"\"\n",
    "                if len(nameObject) > 0:\n",
    "                    name = nameObject[0].get_attribute(\"innerHTML\")\n",
    "                if name != \"\":\n",
    "                    skills.append(name)\n",
    "        driver.back()\n",
    "        time.sleep(random.randint(1, 3))\n",
    "    else:\n",
    "        skillsContainer = driver.find_elements_by_css_selector(\"#skills ~ .pvs-list__outer-container > .pvs-list\")\n",
    "        if len(skillsContainer) > 0:\n",
    "            skillsObjects = skillsContainer[0].find_elements_by_css_selector('li')\n",
    "            for i in range(len(skillsObjects)):\n",
    "                nameObject = skillsObjects[i].find_elements_by_css_selector(\".pvs-entity > div:last-of-type > div:first-of-type span:first-of-type > span:first-of-type\")\n",
    "                name = \"\"\n",
    "                if len(nameObject) > 0:\n",
    "                    name = nameObject[0].get_attribute(\"innerHTML\")\n",
    "                if name != \"\":\n",
    "                    skills.append(name)\n",
    "    return skills"
   ]
  },
  {
   "cell_type": "markdown",
   "id": "55acf52f",
   "metadata": {
    "pycharm": {
     "name": "#%% md\n"
    }
   },
   "source": [
    "## Get Info and Write to File"
   ]
  },
  {
   "cell_type": "code",
   "execution_count": 6,
   "id": "dd03b88b",
   "metadata": {
    "pycharm": {
     "name": "#%%\n"
    }
   },
   "outputs": [],
   "source": [
    "def write_to_file(link):\n",
    "    username = get_username()\n",
    "    experiences = get_experiences()\n",
    "    educations = get_educations()\n",
    "    skills = get_skills()\n",
    "    \n",
    "    new_row = {\n",
    "        \"Profile URL\": link,\n",
    "        \"Full Name\": username,\n",
    "        \"Experiences\": [experiences],\n",
    "        \"Educations\": [educations],\n",
    "        \"Skills\": [skills],\n",
    "    }\n",
    "    result.append(new_row)"
   ]
  },
  {
   "cell_type": "markdown",
   "id": "b89159fc",
   "metadata": {
    "pycharm": {
     "name": "#%% md\n"
    }
   },
   "source": [
    "## Creating Chrome Instance"
   ]
  },
  {
   "cell_type": "code",
   "execution_count": 42,
   "id": "3bb44bee",
   "metadata": {
    "pycharm": {
     "name": "#%%\n"
    }
   },
   "outputs": [],
   "source": [
    "chrome_options = Options()\n",
    "# chrome_options.add_argument(\"--window-size=1920x1080\")\n",
    "s = Service('D:/ChromeDriver/chromedriver.exe')\n",
    "driver = webdriver.Chrome(options=chrome_options, service=s)"
   ]
  },
  {
   "cell_type": "markdown",
   "id": "9a8984e9",
   "metadata": {
    "pycharm": {
     "name": "#%% md\n"
    }
   },
   "source": [
    "## Reading Profile Links from File"
   ]
  },
  {
   "cell_type": "code",
   "execution_count": null,
   "id": "e4225ded",
   "metadata": {
    "pycharm": {
     "name": "#%%\n",
     "is_executing": true
    }
   },
   "outputs": [],
   "source": [
    "input_file = pd.read_csv('urls/fullstack-dataengineer.csv')\n",
    "input_file.dropna(inplace=True)\n",
    "links = input_file[\"url\"].iloc[25:, ].to_numpy()\n",
    "# links = links.to_numpy()\n",
    "links"
   ]
  },
  {
   "cell_type": "markdown",
   "id": "0a0323e5",
   "metadata": {
    "pycharm": {
     "name": "#%% md\n"
    }
   },
   "source": [
    "## Creating Final Dataframe"
   ]
  },
  {
   "cell_type": "code",
   "execution_count": 44,
   "id": "3f59ce03",
   "metadata": {
    "pycharm": {
     "name": "#%%\n"
    }
   },
   "outputs": [],
   "source": [
    "result = []"
   ]
  },
  {
   "cell_type": "markdown",
   "id": "5efc012f",
   "metadata": {
    "pycharm": {
     "name": "#%% md\n"
    }
   },
   "source": [
    "## Looping through Links"
   ]
  },
  {
   "cell_type": "code",
   "execution_count": null,
   "id": "5925bef1",
   "metadata": {
    "pycharm": {
     "name": "#%%\n",
     "is_executing": true
    }
   },
   "outputs": [],
   "source": [
    "last_visited_link = -1\n",
    "for i in range(last_visited_link + 1, len(links)):\n",
    "    driver.get(links[i])\n",
    "    time.sleep(1)\n",
    "    write_to_file(links[i])\n",
    "    time.sleep(random.randint(2, 6))\n",
    "    last_visited_link = i\n",
    "    print(links[i], end=\", \")"
   ]
  },
  {
   "cell_type": "markdown",
   "id": "0e7c78a2",
   "metadata": {
    "pycharm": {
     "name": "#%% md\n"
    }
   },
   "source": [
    "## Storing Result in CSV"
   ]
  },
  {
   "cell_type": "code",
   "execution_count": 46,
   "id": "a4519104",
   "metadata": {
    "pycharm": {
     "name": "#%%\n"
    }
   },
   "outputs": [],
   "source": [
    "df = pd.DataFrame(result)\n",
    "df.to_csv('phase2/result.csv', mode=\"a\")"
   ]
  }
 ],
 "metadata": {
  "kernelspec": {
   "display_name": "Python 3 (ipykernel)",
   "language": "python",
   "name": "python3"
  },
  "language_info": {
   "codemirror_mode": {
    "name": "ipython",
    "version": 3
   },
   "file_extension": ".py",
   "mimetype": "text/x-python",
   "name": "python",
   "nbconvert_exporter": "python",
   "pygments_lexer": "ipython3",
   "version": "3.9.7"
  }
 },
 "nbformat": 4,
 "nbformat_minor": 5
}