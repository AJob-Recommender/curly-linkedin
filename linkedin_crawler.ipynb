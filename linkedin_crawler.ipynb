{
 "cells": [
  {
   "cell_type": "code",
   "execution_count": 4,
   "id": "3a596fbb",
   "metadata": {},
   "outputs": [],
   "source": [
    "import pandas as pd\n",
    "from selenium import webdriver\n",
    "from selenium.webdriver.chrome.service import Service\n",
    "from selenium.webdriver.chrome.options import Options\n",
    "import time\n",
    "from selenium.common.exceptions import WebDriverException\n",
    "import numpy as np\n",
    "from selenium.webdriver.common.by import By"
   ]
  },
  {
   "cell_type": "code",
   "execution_count": 5,
   "id": "3bb44bee",
   "metadata": {},
   "outputs": [],
   "source": [
    "# Creating Chrome Instance\n",
    "chrome_options = Options()\n",
    "chrome_options.add_argument(\"--window-size=1920x1080\")\n",
    "s = Service('D:/ChromeDriver/chromedriver.exe')\n",
    "driver = webdriver.Chrome(options=chrome_options, service=s)"
   ]
  },
  {
   "cell_type": "code",
   "execution_count": 57,
   "id": "e4225ded",
   "metadata": {},
   "outputs": [],
   "source": [
    "driver.get('https://linkedin.com/in/amirhallaji/')\n"
   ]
  },
  {
   "cell_type": "code",
   "execution_count": 7,
   "id": "6c5dad98",
   "metadata": {},
   "outputs": [],
   "source": [
    "def write_to_file():\n",
    "    pass"
   ]
  },
  {
   "cell_type": "code",
   "execution_count": 9,
   "id": "a2979ce2",
   "metadata": {},
   "outputs": [
    {
     "name": "stdout",
     "output_type": "stream",
     "text": [
      "[]\n"
     ]
    }
   ],
   "source": [
    "skills = driver.find_elements(By.XPATH, '//*[@id=\"ember415\"]/div[3]/ul/li[2]/div/div[2]/div[1]/a/div/span[1]/span[1]')\n",
    "print(skills)"
   ]
  },
  {
   "cell_type": "code",
   "execution_count": 58,
   "id": "c1bb5cd1",
   "metadata": {},
   "outputs": [
    {
     "name": "stderr",
     "output_type": "stream",
     "text": [
      "C:\\Users\\ahall\\AppData\\Local\\Temp/ipykernel_22348/3896291339.py:1: DeprecationWarning: find_elements_by_* commands are deprecated. Please use find_elements() instead\n",
      "  show_more_skills = driver.find_elements_by_css_selector(\"#skills + div + div .pvs-list__footer-wrapper a\")\n"
     ]
    }
   ],
   "source": [
    "show_more_skills = driver.find_elements_by_css_selector(\"#skills + div + div .pvs-list__footer-wrapper a\")\n",
    "if len(show_more_skills) > 0:\n",
    "    show_more_skills[0].click()"
   ]
  },
  {
   "cell_type": "code",
   "execution_count": 59,
   "id": "a3a0a257",
   "metadata": {},
   "outputs": [],
   "source": [
    "skills = []"
   ]
  },
  {
   "cell_type": "code",
   "execution_count": 60,
   "id": "9cff637f",
   "metadata": {},
   "outputs": [
    {
     "name": "stderr",
     "output_type": "stream",
     "text": [
      "C:\\Users\\ahall\\AppData\\Local\\Temp/ipykernel_22348/2896789587.py:1: DeprecationWarning: find_elements_by_* commands are deprecated. Please use find_elements() instead\n",
      "  skillsContainer = driver.find_elements_by_css_selector(\".pvs-list\")\n",
      "C:\\Users\\ahall\\anaconda3\\lib\\site-packages\\selenium\\webdriver\\remote\\webelement.py:502: UserWarning: find_elements_by_* commands are deprecated. Please use find_elements() instead\n",
      "  warnings.warn(\"find_elements_by_* commands are deprecated. Please use find_elements() instead\")\n"
     ]
    }
   ],
   "source": [
    "skillsContainer = driver.find_elements_by_css_selector(\".pvs-list\")\n",
    "if len(skillsContainer) > 0:\n",
    "    skillsObjects = skillsContainer[0].find_elements_by_css_selector('li')\n",
    "    for i in range(len(skillsObjects)):\n",
    "        nameObject = skillsObjects[i].find_elements_by_css_selector(\".pvs-entity > div:last-of-type > div:first-of-type span:first-of-type > span:first-of-type\")\n",
    "        name = \"\"\n",
    "        if len(nameObject) > 0:\n",
    "            name = nameObject[0].get_attribute(\"innerHTML\")\n",
    "        if name != \"\":\n",
    "            skills.append(name)\n",
    "driver.back()"
   ]
  },
  {
   "cell_type": "code",
   "execution_count": 61,
   "id": "53a058ec",
   "metadata": {},
   "outputs": [
    {
     "data": {
      "text/plain": [
       "['<!---->Programming<!---->',\n",
       " '<!---->Go (Programming Language)<!---->',\n",
       " '<!---->Machine Learning<!---->',\n",
       " '<!---->Python (Programming Language)<!---->',\n",
       " '<!---->Front-end Development<!---->',\n",
       " '<!---->Data Structures<!---->',\n",
       " '<!---->Artificial Intelligence (AI)<!---->',\n",
       " '<!---->Java<!---->',\n",
       " '<!---->C++<!---->',\n",
       " '<!---->C (Programming Language)<!---->',\n",
       " '<!---->Git<!---->',\n",
       " '<!---->Docker<!---->',\n",
       " '<!---->PostgreSQL<!---->',\n",
       " '<!---->JavaScript<!---->',\n",
       " '<!---->React.js<!---->',\n",
       " '<!---->SQL<!---->',\n",
       " '<!---->MySQL<!---->',\n",
       " '<!---->PHP<!---->',\n",
       " '<!---->Linux<!---->',\n",
       " '<!---->Teaching<!---->']"
      ]
     },
     "execution_count": 61,
     "metadata": {},
     "output_type": "execute_result"
    }
   ],
   "source": [
    "skills"
   ]
  },
  {
   "cell_type": "code",
   "execution_count": 62,
   "id": "863b892b",
   "metadata": {},
   "outputs": [],
   "source": [
    "experience = \"\""
   ]
  },
  {
   "cell_type": "code",
   "execution_count": 63,
   "id": "2a2a0e2b",
   "metadata": {},
   "outputs": [
    {
     "name": "stderr",
     "output_type": "stream",
     "text": [
      "C:\\Users\\ahall\\AppData\\Local\\Temp/ipykernel_22348/2940724000.py:1: DeprecationWarning: find_elements_by_* commands are deprecated. Please use find_elements() instead\n",
      "  experienceContainer = driver.find_elements_by_css_selector(\"#experience ~ .pvs-list__outer-container li:first-of-type .pvs-entity > div:last-of-type > div > div:first-of-type > div:first-of-type span > span:first-of-type\")\n"
     ]
    }
   ],
   "source": [
    "experienceContainer = driver.find_elements_by_css_selector(\"#experience ~ .pvs-list__outer-container li:first-of-type .pvs-entity > div:last-of-type > div > div:first-of-type > div:first-of-type span > span:first-of-type\")\n",
    "if len(experienceContainer) > 0:\n",
    "    experience = experienceContainer[0].get_attribute(\"innerHTML\")"
   ]
  },
  {
   "cell_type": "code",
   "execution_count": 64,
   "id": "ff1d5919",
   "metadata": {},
   "outputs": [
    {
     "name": "stdout",
     "output_type": "stream",
     "text": [
      "<!---->Teacher Assistant<!---->\n"
     ]
    }
   ],
   "source": [
    "print(experience)"
   ]
  },
  {
   "cell_type": "markdown",
   "id": "44a3aa1a",
   "metadata": {},
   "source": []
  }
 ],
 "metadata": {
  "kernelspec": {
   "display_name": "Python 3 (ipykernel)",
   "language": "python",
   "name": "python3"
  },
  "language_info": {
   "codemirror_mode": {
    "name": "ipython",
    "version": 3
   },
   "file_extension": ".py",
   "mimetype": "text/x-python",
   "name": "python",
   "nbconvert_exporter": "python",
   "pygments_lexer": "ipython3",
   "version": "3.9.7"
  }
 },
 "nbformat": 4,
 "nbformat_minor": 5
}
